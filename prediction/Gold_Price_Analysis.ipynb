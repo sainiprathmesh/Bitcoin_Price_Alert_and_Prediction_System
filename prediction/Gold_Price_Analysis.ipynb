{
 "nbformat": 4,
 "nbformat_minor": 0,
 "metadata": {
  "colab": {
   "name": "Gold_Price_Analysis.ipynb",
   "provenance": [],
   "authorship_tag": "ABX9TyOuq5crOUdafot7EcZaao7u",
   "include_colab_link": true
  },
  "kernelspec": {
   "name": "python3",
   "language": "python",
   "display_name": "Python 3"
  }
 },
 "cells": [
  {
   "cell_type": "code",
   "metadata": {
    "id": "-pBGAHXaTauZ"
   },
   "source": [
    "import numpy as np\n",
    "import pandas as pd\n",
    "import matplotlib.pyplot as plt\n",
    "df = pd.read_csv('book.csv')"
   ],
   "execution_count": 1,
   "outputs": []
  },
  {
   "cell_type": "code",
   "metadata": {
    "id": "j8zvC9oSTh_-",
    "outputId": "b2a39b0c-c22c-408c-a701-7462b61c9f81",
    "colab": {
     "base_uri": "https://localhost:8080/",
     "height": 402
    }
   },
   "source": [
    "df"
   ],
   "execution_count": 2,
   "outputs": [
    {
     "data": {
      "text/plain": "      bit_high  gold_high\n0       584.89     1963.3\n1       579.97     1975.2\n2       596.68     1959.7\n3       596.01     1948.3\n4       594.24     1947.4\n...        ...        ...\n1496  10443.72     1281.9\n1497  10349.09     1404.9\n1498  10493.32     1380.0\n1499  10412.60     1364.5\n1500  10412.41     1377.4\n\n[1501 rows x 2 columns]",
      "text/html": "<div>\n<style scoped>\n    .dataframe tbody tr th:only-of-type {\n        vertical-align: middle;\n    }\n\n    .dataframe tbody tr th {\n        vertical-align: top;\n    }\n\n    .dataframe thead th {\n        text-align: right;\n    }\n</style>\n<table border=\"1\" class=\"dataframe\">\n  <thead>\n    <tr style=\"text-align: right;\">\n      <th></th>\n      <th>bit_high</th>\n      <th>gold_high</th>\n    </tr>\n  </thead>\n  <tbody>\n    <tr>\n      <th>0</th>\n      <td>584.89</td>\n      <td>1963.3</td>\n    </tr>\n    <tr>\n      <th>1</th>\n      <td>579.97</td>\n      <td>1975.2</td>\n    </tr>\n    <tr>\n      <th>2</th>\n      <td>596.68</td>\n      <td>1959.7</td>\n    </tr>\n    <tr>\n      <th>3</th>\n      <td>596.01</td>\n      <td>1948.3</td>\n    </tr>\n    <tr>\n      <th>4</th>\n      <td>594.24</td>\n      <td>1947.4</td>\n    </tr>\n    <tr>\n      <th>...</th>\n      <td>...</td>\n      <td>...</td>\n    </tr>\n    <tr>\n      <th>1496</th>\n      <td>10443.72</td>\n      <td>1281.9</td>\n    </tr>\n    <tr>\n      <th>1497</th>\n      <td>10349.09</td>\n      <td>1404.9</td>\n    </tr>\n    <tr>\n      <th>1498</th>\n      <td>10493.32</td>\n      <td>1380.0</td>\n    </tr>\n    <tr>\n      <th>1499</th>\n      <td>10412.60</td>\n      <td>1364.5</td>\n    </tr>\n    <tr>\n      <th>1500</th>\n      <td>10412.41</td>\n      <td>1377.4</td>\n    </tr>\n  </tbody>\n</table>\n<p>1501 rows × 2 columns</p>\n</div>"
     },
     "execution_count": 2,
     "metadata": {},
     "output_type": "execute_result"
    }
   ]
  },
  {
   "cell_type": "code",
   "metadata": {
    "id": "zcrFs9WTTyP3"
   },
   "source": [
    "X =df.loc[:,'gold_high']\n",
    "Y = df.loc[:,'bit_high']"
   ],
   "execution_count": 3,
   "outputs": []
  },
  {
   "cell_type": "code",
   "metadata": {
    "id": "QER0qHvtVLB5"
   },
   "source": [
    "X1=np.array(X)\n",
    "Y1=np.array(Y)"
   ],
   "execution_count": 4,
   "outputs": []
  },
  {
   "cell_type": "code",
   "metadata": {
    "id": "1OEj3wMTVgoO"
   },
   "source": [
    "from sklearn.preprocessing import MinMaxScaler\n",
    "scaler=MinMaxScaler(feature_range=(0,1))\n",
    "X1=scaler.fit_transform(X1.reshape(-1,1))\n",
    "Y1=scaler.fit_transform(Y1.reshape(-1,1))"
   ],
   "execution_count": 5,
   "outputs": []
  },
  {
   "cell_type": "code",
   "metadata": {
    "id": "meBWOK2-UGrH"
   },
   "source": [
    "from sklearn.model_selection import train_test_split"
   ],
   "execution_count": 6,
   "outputs": []
  },
  {
   "cell_type": "code",
   "metadata": {
    "id": "jl8D6G4sUJkg"
   },
   "source": [
    "X_train, X_test, y_train, y_test = train_test_split(X1, Y1, test_size=0.33, random_state=42)"
   ],
   "execution_count": 7,
   "outputs": []
  },
  {
   "cell_type": "code",
   "metadata": {
    "id": "QSijOp33UM7W"
   },
   "source": [
    "from sklearn.linear_model import LinearRegression"
   ],
   "execution_count": 8,
   "outputs": []
  },
  {
   "cell_type": "code",
   "metadata": {
    "id": "2QMzoplKUPb_",
    "outputId": "83b8700f-dd1f-4455-d058-e706fc246e8e",
    "colab": {
     "base_uri": "https://localhost:8080/",
     "height": 50
    }
   },
   "source": [
    "model1 = LinearRegression()\n",
    "model1.fit(X_train,y_train)\n",
    "print(\"Train Accuracy: \", model1.score(X_train,y_train))\n",
    "print(\"Test Accuracy: \", model1.score(X_test,y_test))"
   ],
   "execution_count": 9,
   "outputs": [
    {
     "name": "stdout",
     "output_type": "stream",
     "text": [
      "Train Accuracy:  0.4176852050251102\n",
      "Test Accuracy:  0.362134773917664\n"
     ]
    }
   ]
  },
  {
   "cell_type": "code",
   "metadata": {
    "id": "MY0jwQrlWxLC",
    "outputId": "19c6301b-94eb-494a-9de7-4b0e60c19830",
    "colab": {
     "base_uri": "https://localhost:8080/",
     "height": 265
    }
   },
   "source": [
    "plt.plot(X1)\n",
    "plt.plot(Y1)\n",
    "plt.show()"
   ],
   "execution_count": 10,
   "outputs": [
    {
     "data": {
      "text/plain": "<Figure size 432x288 with 1 Axes>",
      "image/png": "[encoded data removed]"
     },
     "metadata": {
      "needs_background": "light"
     },
     "output_type": "display_data"
    }
   ]
  }
 ]
}