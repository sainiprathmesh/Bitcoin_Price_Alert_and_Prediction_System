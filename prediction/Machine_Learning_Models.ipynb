{
 "nbformat": 4,
 "nbformat_minor": 0,
 "metadata": {
  "colab": {
   "name": "ML_Models.ipynb",
   "provenance": [],
   "authorship_tag": "ABX9TyNn/2mvgUBJabL0mN6tCZF1",
   "include_colab_link": true
  },
  "kernelspec": {
   "name": "python3",
   "language": "python",
   "display_name": "Python 3"
  }
 },
 "cells": [
  {
   "cell_type": "code",
   "metadata": {
    "id": "JInoC-o316BQ"
   },
   "source": [
    "import pandas as pd\n",
    "import numpy as np\n",
    "import time"
   ],
   "execution_count": null,
   "outputs": []
  },
  {
   "cell_type": "code",
   "metadata": {
    "id": "eRgVsqnc19_e"
   },
   "source": [
    "df = pd.read_csv(\"bitcoin_usd.csv\")"
   ],
   "execution_count": null,
   "outputs": []
  },
  {
   "cell_type": "code",
   "metadata": {
    "id": "-tPDdm812BV0",
    "outputId": "04f7b2b1-5a32-4a74-e30a-da98f571cf36",
    "colab": {
     "base_uri": "https://localhost:8080/",
     "height": 195
    }
   },
   "source": [
    "df.head()"
   ],
   "execution_count": null,
   "outputs": []
  },
  {
   "cell_type": "code",
   "metadata": {
    "id": "bSgO3hJM2HdX"
   },
   "source": [
    "df=df.drop(labels=['_id','time'],axis=1)"
   ],
   "execution_count": null,
   "outputs": []
  },
  {
   "cell_type": "code",
   "metadata": {
    "id": "7C04YCVE2K5N",
    "outputId": "aef8eeb1-c357-4fec-c3f3-6102d389b491",
    "colab": {
     "base_uri": "https://localhost:8080/",
     "height": 195
    }
   },
   "source": [
    "df.head()"
   ],
   "execution_count": null,
   "outputs": []
  },
  {
   "cell_type": "code",
   "metadata": {
    "id": "deyNyZIF2NaN",
    "outputId": "004cc985-a1d3-4b0d-f504-0e5ffa2d8976",
    "colab": {
     "base_uri": "https://localhost:8080/",
     "height": 195
    }
   },
   "source": [
    "df.tail()"
   ],
   "execution_count": null,
   "outputs": []
  },
  {
   "cell_type": "code",
   "metadata": {
    "id": "Dq1Y6flp2Pmd",
    "outputId": "9140fd82-3af7-4b52-cac7-5f0c6c4ab71c",
    "colab": {
     "base_uri": "https://localhost:8080/",
     "height": 34
    }
   },
   "source": [
    "df.columns"
   ],
   "execution_count": null,
   "outputs": []
  },
  {
   "cell_type": "code",
   "metadata": {
    "id": "3DzxqLYb2Sls"
   },
   "source": [
    "import matplotlib.pyplot as plt\n",
    "import seaborn as sns\n"
   ],
   "execution_count": null,
   "outputs": []
  },
  {
   "cell_type": "code",
   "metadata": {
    "id": "OI4COMIm2UhX",
    "outputId": "e41318da-c86d-4b9b-e05d-5b126f6bdd0f",
    "colab": {
     "base_uri": "https://localhost:8080/",
     "height": 743
    }
   },
   "source": [
    "sns.pairplot(df)"
   ],
   "execution_count": null,
   "outputs": []
  },
  {
   "cell_type": "code",
   "metadata": {
    "id": "DeeC8yfm2Wg8",
    "outputId": "248ab503-4154-46bf-d151-d795d339a63d",
    "colab": {
     "base_uri": "https://localhost:8080/",
     "height": 166
    }
   },
   "source": [
    "df.corr()"
   ],
   "execution_count": null,
   "outputs": []
  },
  {
   "cell_type": "code",
   "metadata": {
    "id": "pUJzJ0SR2ZH2",
    "outputId": "d6b94dd3-31ac-4055-f8b6-82b974725fb7",
    "colab": {
     "base_uri": "https://localhost:8080/",
     "height": 286
    }
   },
   "source": [
    "sns.heatmap(df.corr())"
   ],
   "execution_count": null,
   "outputs": []
  },
  {
   "cell_type": "code",
   "metadata": {
    "id": "zsEzc_8M2bHM",
    "outputId": "5d35f73e-25ea-4f17-801a-53c3ee2daa25",
    "colab": {
     "base_uri": "https://localhost:8080/",
     "height": 332
    }
   },
   "source": [
    "import matplotlib.pyplot as plt\n",
    "plt.plot(df)"
   ],
   "execution_count": null,
   "outputs": []
  },
  {
   "cell_type": "code",
   "metadata": {
    "id": "ZQG9j3OamqNI"
   },
   "source": [
    "X =df.loc[:,['close', 'low', 'open']]\n",
    "Y = df.loc[:,'high']"
   ],
   "execution_count": null,
   "outputs": []
  },
  {
   "cell_type": "code",
   "metadata": {
    "id": "o9zcYNb_2h6u"
   },
   "source": [
    "from sklearn.model_selection import train_test_split"
   ],
   "execution_count": null,
   "outputs": []
  },
  {
   "cell_type": "code",
   "metadata": {
    "id": "kDh2x8fL2kV0"
   },
   "source": [
    "X_train, X_test, y_train, y_test = train_test_split(X, Y, test_size=0.33, random_state=42)"
   ],
   "execution_count": null,
   "outputs": []
  },
  {
   "cell_type": "markdown",
   "metadata": {
    "id": "qRkrX76r2yP1"
   },
   "source": [
    "# **Multivariate Linear Regression**"
   ]
  },
  {
   "cell_type": "code",
   "metadata": {
    "id": "d9p3aEG23Fhl"
   },
   "source": [
    "from sklearn.linear_model import LinearRegression"
   ],
   "execution_count": null,
   "outputs": []
  },
  {
   "cell_type": "code",
   "metadata": {
    "id": "91UtU7nY3IE7",
    "outputId": "5612ed56-d534-4f84-bfe0-b9a1fe46aef2",
    "colab": {
     "base_uri": "https://localhost:8080/",
     "height": 50
    }
   },
   "source": [
    "sm_time = time.time()\n",
    "model1 = LinearRegression()\n",
    "model1.fit(X_train,y_train)\n",
    "em_time = time.time()\n",
    "print(\"Train Accuracy: \", model1.score(X_train,y_train))\n",
    "print(\"Test Accuracy: \", model1.score(X_test,y_test))\n",
    "print(\"Execution Time: \", em_time - sm_time)"
   ],
   "execution_count": null,
   "outputs": []
  },
  {
   "cell_type": "markdown",
   "metadata": {
    "id": "-Bd1G5DC3Msd"
   },
   "source": [
    "# **Theil-Sen Regression**"
   ]
  },
  {
   "cell_type": "code",
   "metadata": {
    "id": "mS2I_SrU3TYX"
   },
   "source": [
    "from sklearn.linear_model import TheilSenRegressor"
   ],
   "execution_count": null,
   "outputs": []
  },
  {
   "cell_type": "code",
   "metadata": {
    "id": "HP-L1oDV3XUd",
    "outputId": "ea7afa19-4c34-4709-ae6d-cde8d09743ca",
    "colab": {
     "base_uri": "https://localhost:8080/",
     "height": 50
    }
   },
   "source": [
    "model2 = TheilSenRegressor()\n",
    "model2.fit(X_train,y_train)\n",
    "print(\"Train Accuracy: \", model2.score(X_train,y_train))\n",
    "print(\"Test Accuracy: \", model2.score(X_test,y_test))"
   ],
   "execution_count": null,
   "outputs": []
  },
  {
   "cell_type": "markdown",
   "metadata": {
    "id": "cW7e8yDI3h29"
   },
   "source": [
    "# **Huber Regression**"
   ]
  },
  {
   "cell_type": "code",
   "metadata": {
    "id": "vpr736wa3hXu"
   },
   "source": [
    "from sklearn.linear_model import HuberRegressor"
   ],
   "execution_count": null,
   "outputs": []
  },
  {
   "cell_type": "code",
   "metadata": {
    "id": "eNt7wBsi3oXr",
    "outputId": "d6775e0c-6bfd-46d6-c5e6-deb3aa58db60",
    "colab": {
     "base_uri": "https://localhost:8080/",
     "height": 50
    }
   },
   "source": [
    "model3 = HuberRegressor()\n",
    "model3.fit(X_train,y_train)\n",
    "print(\"Train Accuracy: \", model3.score(X_train,y_train))\n",
    "print(\"Test Accuracy: \", model3.score(X_test,y_test))"
   ],
   "execution_count": null,
   "outputs": []
  },
  {
   "cell_type": "markdown",
   "metadata": {
    "id": "J1mmMpgj3uuD"
   },
   "source": [
    "# **Diagram and Table**"
   ]
  },
  {
   "cell_type": "code",
   "metadata": {
    "id": "KKlvTbPB3sjL"
   },
   "source": [
    "df_model=pd.DataFrame({'Model_Applied':['Linear_Regression','TheilSen_Regression','Huber_Regression'],'Accuracy':[model1.score(X_test,y_test),model2.score(X_test,y_test),model3.score(X_test,y_test)]})"
   ],
   "execution_count": null,
   "outputs": []
  },
  {
   "cell_type": "code",
   "metadata": {
    "id": "1GUMdvBC4DTX",
    "outputId": "2824b9df-f677-45dc-e32d-6774cf580d02",
    "colab": {
     "base_uri": "https://localhost:8080/",
     "height": 136
    }
   },
   "source": [
    "df_model"
   ],
   "execution_count": null,
   "outputs": []
  },
  {
   "cell_type": "code",
   "metadata": {
    "id": "wTTdx67g4HTz",
    "outputId": "3d320f5d-ffcd-40ac-d2fe-3a1c5b345d81",
    "colab": {
     "base_uri": "https://localhost:8080/",
     "height": 390
    }
   },
   "source": [
    "df_model.plot(kind='bar',x='Model_Applied')"
   ],
   "execution_count": null,
   "outputs": []
  }
 ]
}